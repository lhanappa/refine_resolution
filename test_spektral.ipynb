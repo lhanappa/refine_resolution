{
 "nbformat": 4,
 "nbformat_minor": 2,
 "metadata": {
  "language_info": {
   "name": "python",
   "codemirror_mode": {
    "name": "ipython",
    "version": 3
   },
   "version": "3.7.4-final"
  },
  "orig_nbformat": 2,
  "file_extension": ".py",
  "mimetype": "text/x-python",
  "name": "python",
  "npconvert_exporter": "python",
  "pygments_lexer": "ipython3",
  "version": 3,
  "kernelspec": {
   "name": "python37464bit648325705e4b41c8bbabe44d0e358718",
   "display_name": "Python 3.7.4 64-bit"
  }
 },
 "cells": [
  {
   "cell_type": "code",
   "execution_count": null,
   "metadata": {},
   "outputs": [],
   "source": [
    "from spektral.datasets import citation\n",
    "data = citation.load_data('cora')\n",
    "A, X, y, train_mask, val_mask, test_mask = data\n",
    "X = X.toarray()\n",
    "\n",
    "N = A.shape[0]\n",
    "F = X.shape[-1]\n",
    "n_classes = y.shape[-1]"
   ]
  },
  {
   "cell_type": "code",
   "execution_count": null,
   "metadata": {},
   "outputs": [],
   "source": [
    "from spektral.layers import GraphConv\n",
    "from tensorflow.keras.models import Model\n",
    "from tensorflow.keras.layers import Input, Dropout"
   ]
  },
  {
   "cell_type": "code",
   "execution_count": 79,
   "metadata": {},
   "outputs": [
    {
     "output_type": "stream",
     "name": "stdout",
     "text": "Model: \"model_27\"\n__________________________________________________________________________________________________\nLayer (type)                    Output Shape         Param #     Connected to                     \n==================================================================================================\ninput_75 (InputLayer)           [(None, 2708, 1433)] 0                                            \n__________________________________________________________________________________________________\ninput_76 (InputLayer)           [(None, 2708, 2708)] 0                                            \n__________________________________________________________________________________________________\ngraph_conv_43 (GraphConv)       (None, 2708, 16)     22944       input_75[0][0]                   \n                                                                 input_76[0][0]                   \n__________________________________________________________________________________________________\nmin_cut_pool_2 (MinCutPool)     [(None, 8, 16), (Non 136         graph_conv_43[0][0]              \n                                                                 input_76[0][0]                   \n__________________________________________________________________________________________________\ntf_op_layer_strided_slice_1 (Te [(8, 16)]            0           min_cut_pool_2[0][0]             \n==================================================================================================\nTotal params: 23,080\nTrainable params: 23,080\nNon-trainable params: 0\n__________________________________________________________________________________________________\n"
    },
    {
     "output_type": "execute_result",
     "data": {
      "text/plain": "\"graph_conv_2 = GraphConv(n_classes, activation='softmax')([dropout, A_in])\\n\\n# Build model\\nmodel = Model(inputs=[X_in, A_in], outputs=graph_conv_2)\""
     },
     "metadata": {},
     "execution_count": 79
    }
   ],
   "source": [
    "from spektral.layers import TopKPool, MinCutPool, SAGPool, GlobalSumPool\n",
    "# Model definition\n",
    "X_in = Input(shape=(N,F))  # Input layer for X\n",
    "A_in = Input(shape=(N,N))  # Input layer for A\n",
    "\n",
    "graph_conv_1 = GraphConv(16, activation='relu')([X_in, A_in])\n",
    "[out, A] = MinCutPool(8)([graph_conv_1, A_in])\n",
    "\n",
    "model = Model([X_in, A_in], out[0])\n",
    "model.summary()\n",
    "'''graph_conv_2 = GraphConv(n_classes, activation='softmax')([dropout, A_in])\n",
    "\n",
    "# Build model\n",
    "model = Model(inputs=[X_in, A_in], outputs=graph_conv_2)'''"
   ]
  },
  {
   "cell_type": "code",
   "execution_count": null,
   "metadata": {},
   "outputs": [],
   "source": [
    "print(X.shape)\n",
    "print(A.shape)"
   ]
  },
  {
   "cell_type": "code",
   "execution_count": null,
   "metadata": {},
   "outputs": [],
   "source": []
  }
 ]
}