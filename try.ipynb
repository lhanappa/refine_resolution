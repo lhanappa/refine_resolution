{
 "nbformat": 4,
 "nbformat_minor": 2,
 "metadata": {
  "language_info": {
   "name": "python",
   "codemirror_mode": {
    "name": "ipython",
    "version": 3
   },
   "version": "3.7.4-final"
  },
  "orig_nbformat": 2,
  "file_extension": ".py",
  "mimetype": "text/x-python",
  "name": "python",
  "npconvert_exporter": "python",
  "pygments_lexer": "ipython3",
  "version": 3,
  "kernelspec": {
   "name": "python3",
   "display_name": "Python 3"
  }
 },
 "cells": [
  {
   "cell_type": "code",
   "execution_count": 9,
   "metadata": {},
   "outputs": [
    {
     "name": "stdout",
     "output_type": "stream",
     "text": "Model: \"sequential_8\"\n_________________________________________________________________\nLayer (type)                 Output Shape              Param #   \n=================================================================\nconv2d_9 (Conv2D)            (None, 128, 1, 512)       65536     \n=================================================================\nTotal params: 65,536\nTrainable params: 65,536\nNon-trainable params: 0\n_________________________________________________________________\n"
    }
   ],
   "source": [
    "import tensorflow as tf\n",
    "from tensorflow.keras import layers\n",
    "import numpy as np\n",
    "model = tf.keras.Sequential()\n",
    "model.add(layers.InputLayer(input_shape=[128, 128, 1]))\n",
    "init = np.ones(shape=(1, 128, 1, 512))\n",
    "model.add(layers.Conv2D(512, [1, 128], \n",
    "                        strides=1, padding='valid', \n",
    "                        data_format=\"channels_last\", \n",
    "                        activation='relu', \n",
    "                        use_bias=False, \n",
    "                        kernel_initializer=tf.constant_initializer(init),\n",
    "                        kernel_constraint=tf.keras.constraints.NonNeg()))\n",
    "\n",
    "model.compile(optimizer='adam',\n",
    "              loss='mae',\n",
    "              metrics=['mse'])\n",
    "model.summary()"
   ]
  },
  {
   "cell_type": "code",
   "execution_count": 12,
   "metadata": {},
   "outputs": [
    {
     "name": "stdout",
     "output_type": "stream",
     "text": "(1, 128, 1, 512)\n"
    }
   ],
   "source": [
    "print(init.shape)"
   ]
  },
  {
   "cell_type": "code",
   "execution_count": null,
   "metadata": {},
   "outputs": [],
   "source": []
  }
 ]
}